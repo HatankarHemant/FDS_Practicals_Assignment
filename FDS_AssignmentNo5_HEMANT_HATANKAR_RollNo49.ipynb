{
  "nbformat": 4,
  "nbformat_minor": 0,
  "metadata": {
    "colab": {
      "name": "FDS_AssignmentNo5_HEMANT_HATANKAR_RollNo49.ipynb",
      "provenance": [],
      "collapsed_sections": []
    },
    "kernelspec": {
      "name": "python3",
      "display_name": "Python 3"
    }
  },
  "cells": [
    {
      "cell_type": "code",
      "metadata": {
        "id": "yI8Pu5KwhvJ-"
      },
      "source": [
        "import numpy as np\r\n",
        "import math"
      ],
      "execution_count": 34,
      "outputs": []
    },
    {
      "cell_type": "markdown",
      "metadata": {
        "id": "kC161c0TScB6"
      },
      "source": [
        "# **Probability**"
      ]
    },
    {
      "cell_type": "markdown",
      "metadata": {
        "id": "v9RTUmSr7X7-"
      },
      "source": [
        "1. Two dice are rolled, find the probability that the sum is:\r\n",
        "> (a) equal to 1\r\n",
        "\r\n",
        "  > (b) equal to 4\r\n",
        "\r\n",
        "  > (c) less than 13\r\n"
      ]
    },
    {
      "cell_type": "markdown",
      "metadata": {
        "id": "O8MlJqOX7r0s"
      },
      "source": [
        "ANSWER:\r\n"
      ]
    },
    {
      "cell_type": "code",
      "metadata": {
        "colab": {
          "base_uri": "https://localhost:8080/"
        },
        "id": "lnYElmHO49qv",
        "outputId": "427562eb-4753-41fe-9bc6-37168d556442"
      },
      "source": [
        "#Given data:\r\n",
        "\r\n",
        "#1. UNIVERSAL SET: S\r\n",
        "S = []\r\n",
        "for i in range(1,7):\r\n",
        "  for j in range(1,7):\r\n",
        "    S.append((i,j))\r\n",
        "print(\"Universal Set S will be:\",S)\r\n",
        "\r\n",
        "#2. Number of Element in S:\r\n",
        "nS = len(S) \r\n",
        "print(\"Number of Element in S i.e. n(S): \",nS)\r\n",
        "\r\n",
        "#Define function to find the probability that the sum is:\r\n",
        "def ProbofSum(S, SUM, Operation):\r\n",
        "  print(\"############################################\")\r\n",
        "  print(\"Finding Probability for Sum is equal to {}: \".format(SUM))\r\n",
        "  #Calcualte number of element thats satisfying the SUM value\r\n",
        "  S1 = []\r\n",
        "  if Operation == \"=\":\r\n",
        "    for (x1,x2) in S:    \r\n",
        "      if (x1 + x2) == SUM:\r\n",
        "        S1.append((x1,x2))\r\n",
        "  elif Operation == \">\":\r\n",
        "    for (x1,x2) in S:    \r\n",
        "      if (x1 + x2) > SUM:\r\n",
        "        S1.append((x1,x2))\r\n",
        "  elif Operation == \">=\":\r\n",
        "    for (x1,x2) in S:    \r\n",
        "      if (x1 + x2) >= SUM:\r\n",
        "        S1.append((x1,x2))\r\n",
        "  elif Operation == \"<\":\r\n",
        "    for (x1,x2) in S:    \r\n",
        "      if (x1 + x2) < SUM:\r\n",
        "        S1.append((x1,x2))\r\n",
        "  elif Operation == \"=<\":\r\n",
        "    for (x1,x2) in S:    \r\n",
        "      if (x1 + x2) <= SUM:\r\n",
        "        S1.append((x1,x2))\r\n",
        "  print(\"SET of Elements for given event is :\",S1)\r\n",
        "  print(\"n(EVENT) = \",len(S1))\r\n",
        "  #Calculate probability\r\n",
        "  if len(S1) == 0:\r\n",
        "    P = round(0,2)\r\n",
        "  else:\r\n",
        "    P = round(float(len(S1)/len(S)),2)\r\n",
        "  print(\"Probability of EVENT having SUM {} {} is {}\".format(Operation,SUM,P))\r\n",
        "  return True\r\n",
        "\r\n",
        "# EVENT# 1: SUM = 1\r\n",
        "SUM = 1\r\n",
        "Operation = \"=\"\r\n",
        "ProbofSum(S, SUM, Operation)\r\n",
        "\r\n",
        "# EVENT# 2: SUM = 4\r\n",
        "SUM = 4\r\n",
        "Operation = \"=\"\r\n",
        "ProbofSum(S, SUM, Operation)\r\n",
        "# EVENT# 3: SUM = 13\r\n",
        "SUM = 13\r\n",
        "Operation = \"<\"\r\n",
        "ProbofSum(S, SUM, Operation)\r\n",
        "\r\n"
      ],
      "execution_count": 17,
      "outputs": [
        {
          "output_type": "stream",
          "text": [
            "Universal Set S will be: [(1, 1), (1, 2), (1, 3), (1, 4), (1, 5), (1, 6), (2, 1), (2, 2), (2, 3), (2, 4), (2, 5), (2, 6), (3, 1), (3, 2), (3, 3), (3, 4), (3, 5), (3, 6), (4, 1), (4, 2), (4, 3), (4, 4), (4, 5), (4, 6), (5, 1), (5, 2), (5, 3), (5, 4), (5, 5), (5, 6), (6, 1), (6, 2), (6, 3), (6, 4), (6, 5), (6, 6)]\n",
            "Number of Element in S i.e. n(S):  36\n",
            "############################################\n",
            "Finding Probability for Sum is equal to 1: \n",
            "SET of Elements for given event is : []\n",
            "n(EVENT) =  0\n",
            "Probability of EVENT having SUM = 1 is 0\n",
            "############################################\n",
            "Finding Probability for Sum is equal to 4: \n",
            "SET of Elements for given event is : [(1, 3), (2, 2), (3, 1)]\n",
            "n(EVENT) =  3\n",
            "Probability of EVENT having SUM = 4 is 0.08\n",
            "############################################\n",
            "Finding Probability for Sum is equal to 13: \n",
            "SET of Elements for given event is : [(1, 1), (1, 2), (1, 3), (1, 4), (1, 5), (1, 6), (2, 1), (2, 2), (2, 3), (2, 4), (2, 5), (2, 6), (3, 1), (3, 2), (3, 3), (3, 4), (3, 5), (3, 6), (4, 1), (4, 2), (4, 3), (4, 4), (4, 5), (4, 6), (5, 1), (5, 2), (5, 3), (5, 4), (5, 5), (5, 6), (6, 1), (6, 2), (6, 3), (6, 4), (6, 5), (6, 6)]\n",
            "n(EVENT) =  36\n",
            "Probability of EVENT having SUM < 13 is 1.0\n"
          ],
          "name": "stdout"
        },
        {
          "output_type": "execute_result",
          "data": {
            "text/plain": [
              "True"
            ]
          },
          "metadata": {
            "tags": []
          },
          "execution_count": 17
        }
      ]
    },
    {
      "cell_type": "markdown",
      "metadata": {
        "id": "_vg7CF0_So3x"
      },
      "source": [
        "# **Probability & Events**"
      ]
    },
    {
      "cell_type": "markdown",
      "metadata": {
        "id": "jVGwkUDOIJ4F"
      },
      "source": [
        "Q. 2.  In the game of snakes and ladders, a fair die is thrown. If event E1 represents all the events of getting a natural number less than 4, event E2 consists of all the events of getting an even number and E3 denotes all the events of getting an odd number. List the sets representing the following:\r\n",
        "\r\n",
        "\r\n",
        "\r\n",
        "> i)E1 or E2 or E3\r\n",
        "\r\n",
        "\r\n",
        "\r\n",
        "> ii)E1 and E2 and E3\r\n",
        "\r\n",
        "\r\n",
        "\r\n",
        "> iii)E1 but not E3\r\n"
      ]
    },
    {
      "cell_type": "code",
      "metadata": {
        "colab": {
          "base_uri": "https://localhost:8080/"
        },
        "id": "hDbQTGEmIBoo",
        "outputId": "bcae59f8-8eed-41a4-9712-b8142e647b4d"
      },
      "source": [
        "#Universal Set i.e. S for given problem\r\n",
        "S = []\r\n",
        "for i in range(1,7):\r\n",
        "  if i > 0 and i < 4:\r\n",
        "    S.append(i)\r\n",
        "print(\"S = \",S)\r\n",
        "\r\n",
        "#S = [1,2,3,4,5,6]\r\n",
        "#No. of elements in S\r\n",
        "nS = len(S)\r\n",
        "print(\"n(S) = \",nS)\r\n",
        "\r\n",
        "# EVENT: E1 -> all the events of getting a natural number less than 4\r\n",
        "print(\"EVENT: E1 -> all the events of getting a natural number less than 4\")\r\n",
        "E1 = []\r\n",
        "for i in range(1,7):\r\n",
        "  if i > 0 and i < 4:\r\n",
        "    E1.append(i)\r\n",
        "print(\"E1 -> \",E1)\r\n",
        "\r\n",
        "# EVENT: E2 -> all the events of getting an even number\r\n",
        "print(\"EVENT: E2 -> all the events of getting an even number\")\r\n",
        "E2 = []\r\n",
        "for i in range(1,7):\r\n",
        "  if i%2 == 0:\r\n",
        "    E2.append(i)\r\n",
        "print(\"E2 -> \",E2)\r\n",
        "\r\n",
        "# EVENT: E3 -> all the events of getting an odd number\r\n",
        "print(\"EVENT: E3 -> all the events of getting an odd number\")\r\n",
        "E3 = []\r\n",
        "for i in range(1,7):\r\n",
        "  if i%2 != 0:\r\n",
        "    E3.append(i)\r\n",
        "print(\"E3 -> \",E3)\r\n",
        "print(\"\\nRESULTS:\\n\")\r\n",
        "# E1 or E2 or E3 (UNION)\r\n",
        "E1_or_E2_or_E3 = list(set(E1).union(set(E2)).union(set(E3)))\r\n",
        "print(\"E1 or E2 or E3 (UNION): \",set(E1_or_E2_or_E3))\r\n",
        "# E1 and E2 and E3 (INTERSECTION)\r\n",
        "E1_and_E2_and_E3 = list(set(E1).intersection(set(E2)).intersection(set(E3)))\r\n",
        "print(\"E1 and E2 and E3 (INTERSECTION): \",set(E1_and_E2_and_E3))\r\n",
        "#E1 but not E3 (DIFFERENCE)\r\n",
        "E1_but_not_E3 = set(E1).difference(set(E3))\r\n",
        "print(\"E1 but not E3 (DIFFERENCE): \",set(E1_but_not_E3))\r\n",
        "\r\n",
        "\r\n"
      ],
      "execution_count": 28,
      "outputs": [
        {
          "output_type": "stream",
          "text": [
            "S =  [1, 2, 3]\n",
            "n(S) =  3\n",
            "EVENT: E1 -> all the events of getting a natural number less than 4\n",
            "E1 ->  [1, 2, 3]\n",
            "EVENT: E2 -> all the events of getting an even number\n",
            "E2 ->  [2, 4, 6]\n",
            "EVENT: E3 -> all the events of getting an odd number\n",
            "E3 ->  [1, 3, 5]\n",
            "\n",
            "RESULTS:\n",
            "\n",
            "E1 or E2 or E3 (UNION):  {1, 2, 3, 4, 5, 6}\n",
            "E1 and E2 and E3 (INTERSECTION):  set()\n",
            "E1 but not E3 (DIFFERENCE):  {2}\n"
          ],
          "name": "stdout"
        }
      ]
    },
    {
      "cell_type": "markdown",
      "metadata": {
        "id": "5E3cwqNdapaj"
      },
      "source": [
        "# **Permutations**"
      ]
    },
    {
      "cell_type": "markdown",
      "metadata": {
        "id": "tXdMJftYasVq"
      },
      "source": [
        "Q. 3. How many permutations of the letters of the word ARTICLE  have consonants in the first and last positions?"
      ]
    },
    {
      "cell_type": "code",
      "metadata": {
        "colab": {
          "base_uri": "https://localhost:8080/"
        },
        "id": "5wluMWCFdrVw",
        "outputId": "658a927f-b37c-4620-f0db-558b594bed10"
      },
      "source": [
        "#Given String\r\n",
        "givenSting = \"ARTICLE\"\r\n",
        "print(\"Total no. of letters: \",len(givenSting))\r\n",
        "#No of Consonants\r\n",
        "consonants =[i for i in givenSting.lower() if i not in [\"a\",\"e\",\"i\",\"o\",\"u\"]]\r\n",
        "nConsonants = len(consonants)\r\n",
        "print(\"No of Consonants:\",nConsonants)\r\n",
        "#No of Vowels\r\n",
        "nVowels = len(givenSting) - nConsonants\r\n",
        "print(\"No of Vowels:\",nVowels)\r\n",
        "\r\n",
        "#permutations\r\n",
        "#At First Position: We can use all consonants\r\n",
        "#At Last Position: We can use  (TotalConsonants - 1) consonants\r\n",
        "#At remaining places we can use (totalLetters - 2) letters\r\n",
        "#i.e 4*3*5!\r\n",
        "permutations = nConsonants * (nConsonants-1) * math.factorial(len(givenSting)-2)\r\n",
        "print(\"permutations of the letters of the word {} have consonants in the 1st and last positions : {}\".format(givenSting,permutations))\r\n",
        "\r\n"
      ],
      "execution_count": 46,
      "outputs": [
        {
          "output_type": "stream",
          "text": [
            "Total no. of letters:  7\n",
            "No of Consonants: 4\n",
            "No of Vowels: 3\n",
            "permutations of the letters of the word ARTICLE have consonants in the 1st and last positions : 1440\n"
          ],
          "name": "stdout"
        }
      ]
    },
    {
      "cell_type": "markdown",
      "metadata": {
        "id": "VfjaZ8ebklQY"
      },
      "source": [
        "Q. 4. Give five letters {A,B,C,D,E}. Find the following:\r\n",
        "\r\n",
        "\r\n",
        "> a. The number of four-letter word sequences.\r\n",
        "\r\n",
        "\r\n",
        "> b. The number of three-letter word sequences.\r\n",
        "\r\n",
        "\r\n",
        "> c. The number of two-letter word sequences.\r\n"
      ]
    },
    {
      "cell_type": "code",
      "metadata": {
        "colab": {
          "base_uri": "https://localhost:8080/"
        },
        "id": "affesu1a2F3h",
        "outputId": "d4c18f34-244a-433b-ed5d-5fad7e86e033"
      },
      "source": [
        "givenLetters = {\"A\",\"B\",\"C\",\"D\",\"E\"} \r\n",
        "totalLetters = len(givenLetters)\r\n",
        "\r\n",
        "def NoWords(totalLetters,lenWord): \r\n",
        "  noWords = 1\r\n",
        "  if totalLetters < lenWord:\r\n",
        "    return 0\r\n",
        "  else:\r\n",
        "    for i in range(0,lenWord):\r\n",
        "      noWords =  noWords * (totalLetters-i)\r\n",
        "  return noWords\r\n",
        "\r\n",
        "#The number of four-letter word sequences.\r\n",
        "L4Word = NoWords(totalLetters,4)\r\n",
        "\r\n",
        "#L4Word = 5P4 =5*4*3*2\r\n",
        "print(\"The number of four-letter word sequences: \",L4Word)\r\n",
        "\r\n",
        "#The number of three-letter word sequences.\r\n",
        "L3Word = NoWords(totalLetters,3)\r\n",
        "\r\n",
        "#L3Word = 5P3 = 5*4*3\r\n",
        "print(\"The number of three-letter word sequences: \",L3Word)\r\n",
        "\r\n",
        "#The number of four-letter word sequences.\r\n",
        "L2Word = NoWords(totalLetters,2)\r\n",
        "\r\n",
        "#L3Word = 5P2 = 5*4\r\n",
        "print(\"The number of two-letter word sequences: \",L2Word)"
      ],
      "execution_count": 58,
      "outputs": [
        {
          "output_type": "stream",
          "text": [
            "The number of four-letter word sequences:  120\n",
            "The number of three-letter word sequences:  60\n",
            "The number of two-letter word sequences:  20\n"
          ],
          "name": "stdout"
        }
      ]
    },
    {
      "cell_type": "markdown",
      "metadata": {
        "id": "SZcRPXR8qizH"
      },
      "source": [
        "Q. 5. In how many different ways can 4 people be seated in a straight line if two of them insist on sitting next to each other. "
      ]
    },
    {
      "cell_type": "code",
      "metadata": {
        "colab": {
          "base_uri": "https://localhost:8080/"
        },
        "id": "IixQdKIAtnEn",
        "outputId": "abbda8b9-c7c5-4bd4-eea2-d65c8438dd43"
      },
      "source": [
        "#After we tie two of the people together and treat them as one person, we can say we have only three people. \r\n",
        "#The multiplication axiom tells us that three people can be seated in 3! ways.  \r\n",
        "#Since two people can be tied together 2! ways, there are 3! 2! = 12 different arrangements\r\n",
        "group4_2 = math.factorial(3)*math.factorial(2)\r\n",
        "print(\"No. of different arrangements: \",group4_2)\r\n"
      ],
      "execution_count": 44,
      "outputs": [
        {
          "output_type": "stream",
          "text": [
            "No. of different arrangements:  12\n"
          ],
          "name": "stdout"
        }
      ]
    },
    {
      "cell_type": "markdown",
      "metadata": {
        "id": "6frJfYRt4Xsp"
      },
      "source": [
        "Q.6 You have 4 math books and 5 history books to put on a shelf that has 5 slots. In how many ways can the books be shelved if the first three slots are filled with math books and the next two slots are filled with history books?"
      ]
    },
    {
      "cell_type": "code",
      "metadata": {
        "colab": {
          "base_uri": "https://localhost:8080/"
        },
        "id": "j93pgSvB4lSY",
        "outputId": "89698c06-590e-4cbc-c8ab-06b58dca2411"
      },
      "source": [
        "#Since the math books go in the first three slots, there are 4 choices for the first slot,\r\n",
        "#3 choices for the second and 2 choices for the third.\r\n",
        "#The fourth slot requires a history book, and has five choices. \r\n",
        "#Once that choice is made, there are 4 history books left, and therefore, 4 choices for the last slot.\r\n",
        "#Result = 4*3*2*5*4   OR Result = (4P3 * 5P2)\r\n",
        "\r\n",
        "nMathBook = 4\r\n",
        "nHistoryBook = 5\r\n",
        "nSlot_M = 3\r\n",
        "nSlot_H = 2\r\n",
        "\r\n",
        "#Possible Way for Maths Book to be Shelved \r\n",
        "nMB_BeShelved = 1\r\n",
        "for i in range(0,nSlot_M):\r\n",
        "  nMB_BeShelved = nMB_BeShelved * (nMathBook - i)\r\n",
        "\r\n",
        "#Possible Way for History Book to be Shelved \r\n",
        "nHB_BeShelved = 1\r\n",
        "for i in range(0,nSlot_H):\r\n",
        "  nHB_BeShelved = nHB_BeShelved * (nHistoryBook - i)\r\n",
        "\r\n",
        "#nBooksBeShelved = 4*3*2*5*4\r\n",
        "nBooksBeShelved = nMB_BeShelved * nHB_BeShelved\r\n",
        "print(\"Ways to Book to be Shelved: \",nBooksBeShelved)\r\n"
      ],
      "execution_count": 59,
      "outputs": [
        {
          "output_type": "stream",
          "text": [
            "Ways to Book to be Shelved:  480\n"
          ],
          "name": "stdout"
        }
      ]
    },
    {
      "cell_type": "markdown",
      "metadata": {
        "id": "-kkQ6Ft9-Qp2"
      },
      "source": [
        "Q. 7. The shopping mall has a straight row of 5 flagpoles at its main entrance plaza. It has 3 identical green flags and 2 identical yellow flags. How many distinct arrangements of flags on the flagpoles are possible?"
      ]
    },
    {
      "cell_type": "code",
      "metadata": {
        "colab": {
          "base_uri": "https://localhost:8080/"
        },
        "id": "IaGrfy8Y-VMW",
        "outputId": "93b7ea3e-985d-44b2-c702-266e75d84834"
      },
      "source": [
        "#The problem can be thought of as distinct permutations of the letters GGGYY; \r\n",
        "#that is arrangements of 5 letters, where 3 letters are similar, and the remaining 2 letters are similar\r\n",
        "nFlagPoles = 5\r\n",
        "nGreenFlags = 3\r\n",
        "nRedFlags = 2\r\n",
        "\r\n",
        "nArrangements = math.factorial(nFlagPoles)/(math.factorial(nGreenFlags) * math.factorial(nRedFlags))\r\n",
        "print(\"No. of distinct arrangements of flags on the flagpoles are \",int(nArrangements))"
      ],
      "execution_count": 61,
      "outputs": [
        {
          "output_type": "stream",
          "text": [
            "No. of distinct arrangements of flags on the flagpoles are  10\n"
          ],
          "name": "stdout"
        }
      ]
    },
    {
      "cell_type": "markdown",
      "metadata": {
        "id": "ffGpPJqE_9E2"
      },
      "source": [
        "Q.8.  A Birthday Problem (Collision of Birth Days): \r\n",
        "\r\n",
        "\"If there are ‘n’ people in a room, what is the chance that some pair among them have the same birthday?\"\r\n"
      ]
    },
    {
      "cell_type": "markdown",
      "metadata": {
        "id": "0nFbl-nYHc2J"
      },
      "source": [
        "#Answer:\r\n",
        "The goal is to compute P(A), the probability that at least two people in the room have the same birthday. However, it is simpler to calculate P(A′), the probability that no two people in the room have the same birthday. Then, because A and A′ are the only two possibilities and are also mutually exclusive, P(A) = 1 − P(A′).\r\n",
        "\r\n",
        "\r\n",
        "> Indented block\r\n",
        "\r\n",
        "\r\n",
        "![Npeople.JPG](data:image/jpeg;base64,/9j/4AAQSkZJRgABAQEAYABgAAD/4RD6RXhpZgAATU0AKgAAAAgABAE7AAIAAAAQAAAISodpAAQAAAABAAAIWpydAAEAAAAgAAAQ0uocAAcAAAgMAAAAPgAAAAAc6gAAAAgAAAAAAAAAAAAAAAAAAAAAAAAAAAAAAAAAAAAAAAAAAAAAAAAAAAAAAAAAAAAAAAAAAAAAAAAAAAAAAAAAAAAAAAAAAAAAAAAAAAAAAAAAAAAAAAAAAAAAAAAAAAAAAAAAAAAAAAAAAAAAAAAAAAAAAAAAAAAAAAAAAAAAAAAAAAAAAAAAAAAAAAAAAAAAAAAAAAAAAAAAAAAAAAAAAAAAAAAAAAAAAAAAAAAAAAAAAAAAAAAAAAAAAAAAAAAAAAAAAAAAAAAAAAAAAAAAAAAAAAAAAAAAAAAAAAAAAAAAAAAAAAAAAAAAAAAAAAAAAAAAAAAAAAAAAAAAAAAAAAAAAAAAAAAAAAAAAAAAAAAAAAAAAAAAAAAAAAAAAAAAAAAAAAAAAAAAAAAAAAAAAAAAAAAAAAAAAAAAAAAAAAAAAAAAAAAAAAAAAAAAAAAAAAAAAAAAAAAAAAAAAAAAAAAAAAAAAAAAAAAAAAAAAAAAAAAAAAAAAAAAAAAAAAAAAAAAAAAAAAAAAAAAAAAAAAAAAAAAAAAAAAAAAAAAAAAAAAAAAAAAAAAAAAAAAAAAAAAAAAAAAAAAAAAAAAAAAAAAAAAAAAAAAAAAAAAAAAAAAAAAAAAAAAAAAAAAAAAAAAAAAAAAAAAAAAAAAAAAAAAAAAAAAAAAAAAAAAAAAAAAAAAAAAAAAAAAAAAAAAAAAAAAAAAAAAAAAAAAAAAAAAAAAAAAAAAAAAAAAAAAAAAAAAAAAAAAAAAAAAAAAAAAAAAAAAAAAAAAAAAAAAAAAAAAAAAAAAAAAAAAAAAAAAAAAAAAAAAAAAAAAAAAAAAAAAAAAAAAAAAAAAAAAAAAAAAAAAAAAAAAAAAAAAAAAAAAAAAAAAAAAAAAAAAAAAAAAAAAAAAAAAAAAAAAAAAAAAAAAAAAAAAAAAAAAAAAAAAAAAAAAAAAAAAAAAAAAAAAAAAAAAAAAAAAAAAAAAAAAAAAAAAAAAAAAAAAAAAAAAAAAAAAAAAAAAAAAAAAAAAAAAAAAAAAAAAAAAAAAAAAAAAAAAAAAAAAAAAAAAAAAAAAAAAAAAAAAAAAAAAAAAAAAAAAAAAAAAAAAAAAAAAAAAAAAAAAAAAAAAAAAAAAAAAAAAAAAAAAAAAAAAAAAAAAAAAAAAAAAAAAAAAAAAAAAAAAAAAAAAAAAAAAAAAAAAAAAAAAAAAAAAAAAAAAAAAAAAAAAAAAAAAAAAAAAAAAAAAAAAAAAAAAAAAAAAAAAAAAAAAAAAAAAAAAAAAAAAAAAAAAAAAAAAAAAAAAAAAAAAAAAAAAAAAAAAAAAAAAAAAAAAAAAAAAAAAAAAAAAAAAAAAAAAAAAAAAAAAAAAAAAAAAAAAAAAAAAAAAAAAAAAAAAAAAAAAAAAAAAAAAAAAAAAAAAAAAAAAAAAAAAAAAAAAAAAAAAAAAAAAAAAAAAAAAAAAAAAAAAAAAAAAAAAAAAAAAAAAAAAAAAAAAAAAAAAAAAAAAAAAAAAAAAAAAAAAAAAAAAAAAAAAAAAAAAAAAAAAAAAAAAAAAAAAAAAAAAAAAAAAAAAAAAAAAAAAAAAAAAAAAAAAAAAAAAAAAAAAAAAAAAAAAAAAAAAAAAAAAAAAAAAAAAAAAAAAAAAAAAAAAAAAAAAAAAAAAAAAAAAAAAAAAAAAAAAAAAAAAAAAAAAAAAAAAAAAAAAAAAAAAAAAAAAAAAAAAAAAAAAAAAAAAAAAAAAAAAAAAAAAAAAAAAAAAAAAAAAAAAAAAAAAAAAAAAAAAAAAAAAAAAAAAAAAAAAAAAAAAAAAAAAAAAAAAAAAAAAAAAAAAAAAAAAAAAAAAAAAAAAAAAAAAAAAAAAAAAAAAAAAAAAAAAAAAAAAAAAAAAAAAAAAAAAAAAAAAAAAAAAAAAAAAAAAAAAAAAAAAAAAAAAAAAAAAAAAAAAAAAAAAAAAAAAAAAAAAAAAAAAAAAAAAAAAAAAAAAAAAAAAAAAAAAAAAAAAAAAAAAAAAAAAAAAAAAAAAAAAAAAAAAAAAAAAAAAAAAAAAAAAAAAAAAAAAAAAAAAAAAAAAAAAAAAAAAAAAAAAAAAAAAAAAAAAAAAAAAAAAAAAAAAAAAAAAAAAAAAAAAAAAAAAAAAAAAAAAAAAAAAAAAAAAAAAAAAAAAAAAAAAAAAAAAAAAAAAAAAAAAAAAAAAAAAAAAAAAAAAAAAAAAAAAAAAAAAAAAAAAAAAAAAAAAAAAAAAAAAAAAAAAAAAAAAAAAAAAAAAAAAAAAAAAAAAAAAAAAAAAAAAAAAAAAAAAAAAAAAAAAAAAAAAAAAAAAAAAAAAAAAAAAAAAAAAAAAAAAAAAAAAAAAAAAAAAAAAAAAAAAAAAAAAAAAAAAAAAAAAAAAAAAAAAAAAAAAAAAAAAAAAAAAAAAAAAAAAAAAAAAAAAAAAAAAAAAAAAAAAAAAAAAAAAAAAAAAAAAAAAAAAAAAAAAAAAAAAAAAAAAAAAAAAAAAAAAAAAAAAAAAAAAAAAAAAAAAAAAAAAAAAAAAAAAAAAAAAAAAAAAAAAAAAAAAAAAAAAAAAAAAAAAAAAAAAAAAAAAAAAAAAAAAAAAAAAAAAAAAAAAAAAAAAAAAAAAAAAAAAAAAAAAAAAAAAAAAAAAAAAAAAAAAAAAAAAAAAAAAAAAAAAAAAAAAAAAAAAAAAAAAAAAAAAAAAAAAAAAAAAAAAAAAAAAAAAAAAAAAAAAAAAAAAAAAAAAAAAAAAAAEhFTUFOVCBIQVRBTktBUgAABZADAAIAAAAUAAAQqJAEAAIAAAAUAAAQvJKRAAIAAAADODMAAJKSAAIAAAADODMAAOocAAcAAAgMAAAInAAAAAAc6gAAAAgAAAAAAAAAAAAAAAAAAAAAAAAAAAAAAAAAAAAAAAAAAAAAAAAAAAAAAAAAAAAAAAAAAAAAAAAAAAAAAAAAAAAAAAAAAAAAAAAAAAAAAAAAAAAAAAAAAAAAAAAAAAAAAAAAAAAAAAAAAAAAAAAAAAAAAAAAAAAAAAAAAAAAAAAAAAAAAAAAAAAAAAAAAAAAAAAAAAAAAAAAAAAAAAAAAAAAAAAAAAAAAAAAAAAAAAAAAAAAAAAAAAAAAAAAAAAAAAAAAAAAAAAAAAAAAAAAAAAAAAAAAAAAAAAAAAAAAAAAAAAAAAAAAAAAAAAAAAAAAAAAAAAAAAAAAAAAAAAAAAAAAAAAAAAAAAAAAAAAAAAAAAAAAAAAAAAAAAAAAAAAAAAAAAAAAAAAAAAAAAAAAAAAAAAAAAAAAAAAAAAAAAAAAAAAAAAAAAAAAAAAAAAAAAAAAAAAAAAAAAAAAAAAAAAAAAAAAAAAAAAAAAAAAAAAAAAAAAAAAAAAAAAAAAAAAAAAAAAAAAAAAAAAAAAAAAAAAAAAAAAAAAAAAAAAAAAAAAAAAAAAAAAAAAAAAAAAAAAAAAAAAAAAAAAAAAAAAAAAAAAAAAAAAAAAAAAAAAAAAAAAAAAAAAAAAAAAAAAAAAAAAAAAAAAAAAAAAAAAAAAAAAAAAAAAAAAAAAAAAAAAAAAAAAAAAAAAAAAAAAAAAAAAAAAAAAAAAAAAAAAAAAAAAAAAAAAAAAAAAAAAAAAAAAAAAAAAAAAAAAAAAAAAAAAAAAAAAAAAAAAAAAAAAAAAAAAAAAAAAAAAAAAAAAAAAAAAAAAAAAAAAAAAAAAAAAAAAAAAAAAAAAAAAAAAAAAAAAAAAAAAAAAAAAAAAAAAAAAAAAAAAAAAAAAAAAAAAAAAAAAAAAAAAAAAAAAAAAAAAAAAAAAAAAAAAAAAAAAAAAAAAAAAAAAAAAAAAAAAAAAAAAAAAAAAAAAAAAAAAAAAAAAAAAAAAAAAAAAAAAAAAAAAAAAAAAAAAAAAAAAAAAAAAAAAAAAAAAAAAAAAAAAAAAAAAAAAAAAAAAAAAAAAAAAAAAAAAAAAAAAAAAAAAAAAAAAAAAAAAAAAAAAAAAAAAAAAAAAAAAAAAAAAAAAAAAAAAAAAAAAAAAAAAAAAAAAAAAAAAAAAAAAAAAAAAAAAAAAAAAAAAAAAAAAAAAAAAAAAAAAAAAAAAAAAAAAAAAAAAAAAAAAAAAAAAAAAAAAAAAAAAAAAAAAAAAAAAAAAAAAAAAAAAAAAAAAAAAAAAAAAAAAAAAAAAAAAAAAAAAAAAAAAAAAAAAAAAAAAAAAAAAAAAAAAAAAAAAAAAAAAAAAAAAAAAAAAAAAAAAAAAAAAAAAAAAAAAAAAAAAAAAAAAAAAAAAAAAAAAAAAAAAAAAAAAAAAAAAAAAAAAAAAAAAAAAAAAAAAAAAAAAAAAAAAAAAAAAAAAAAAAAAAAAAAAAAAAAAAAAAAAAAAAAAAAAAAAAAAAAAAAAAAAAAAAAAAAAAAAAAAAAAAAAAAAAAAAAAAAAAAAAAAAAAAAAAAAAAAAAAAAAAAAAAAAAAAAAAAAAAAAAAAAAAAAAAAAAAAAAAAAAAAAAAAAAAAAAAAAAAAAAAAAAAAAAAAAAAAAAAAAAAAAAAAAAAAAAAAAAAAAAAAAAAAAAAAAAAAAAAAAAAAAAAAAAAAAAAAAAAAAAAAAAAAAAAAAAAAAAAAAAAAAAAAAAAAAAAAAAAAAAAAAAAAAAAAAAAAAAAAAAAAAAAAAAAAAAAAAAAAAAAAAAAAAAAAAAAAAAAAAAAAAAAAAAAAAAAAAAAAAAAAAAAAAAAAAAAAAAAAAAAAAAAAAAAAAAAAAAAAAAAAAAAAAAAAAAAAAAAAAAAAAAAAAAAAAAAAAAAAAAAAAAAAAAAAAAAAAAAAAAAAAAAAAAAAAAAAAAAAAAAAAAAAAAAAAAAAAAAAAAAAAAAAAAAAAAAAAAAAAAAAAAAAAAAAAAAAAAAAAAAAAAAAAAAAAAAAAAAAAAAAAAAAAAAAAAAAAAAAAAAAAAAAAAAAAAAAAAAAAAAAAAAAAAAAAAAAAAAAAAAAAAAAAAAAAAAAAAAAAAAAAAAAAAAAAAAAAAAAAAAAAAAAAAAAAAAAAAAAAAAAAAAAAAAAAAAAAAAAAAAAAAAAAAAAAAAAAAAAAAAAAAAAAAAAAAAAAAAAAAAAAAAAAAAAAAAAAAAAAAAAAAAAAAAAAAAAAAAAAAAAAAAAAAAAAAAAAAAAAAAAAAAAAAAAAAAAAAAAAAAAAAAAAAAAAAAAAAAAAAAAAAAAAAAAAAAAAAAAAAAAAAAAAAAAAAAAAAAAAAAAAAAAAAAAAAAAAAAAAAAAAAAAAAAAAAAAAAAAAAAAAAAAAAAAAAAAAAAAAAAAAAAAAAAAAAAAAAAAAAAAAAAAAAAAAAAAAAAAAAAAAAAAAAAAAAAAAAAAAAAAAAAAAAAAAAAAAAAAAAAAAAAAAAAAAAAAAAAAAAAAAAAAAAAAAAAAAAAAAAAAAAAAAAAAAAAAAAAAAAAAAAAAAAAAAAAAAAAAAAAAAAAAAAAAAAAAAAAAAAAAAAAAAAAAAAAAAAAAAAAAAAAAAAAAAAAAAAAAAAAAAAAAAAAAAAAAAAAAAAAAAAAAAAAAAAAAAAAAAAAAAAAAAAAAAAAAAAAAAAAAAAAAAAAAAAAAAAAAAAAAAAAAAAAAAAAAAAAAAAAAAAAAAAAAAAAAADIwMjE6MDE6MjkgMTg6MjE6MzIAMjAyMTowMToyOSAxODoyMTozMgAAAEgARQBNAEEATgBUACAASABBAFQAQQBOAEsAQQBSAAAA/+ELImh0dHA6Ly9ucy5hZG9iZS5jb20veGFwLzEuMC8APD94cGFja2V0IGJlZ2luPSfvu78nIGlkPSdXNU0wTXBDZWhpSHpyZVN6TlRjemtjOWQnPz4NCjx4OnhtcG1ldGEgeG1sbnM6eD0iYWRvYmU6bnM6bWV0YS8iPjxyZGY6UkRGIHhtbG5zOnJkZj0iaHR0cDovL3d3dy53My5vcmcvMTk5OS8wMi8yMi1yZGYtc3ludGF4LW5zIyI+PHJkZjpEZXNjcmlwdGlvbiByZGY6YWJvdXQ9InV1aWQ6ZmFmNWJkZDUtYmEzZC0xMWRhLWFkMzEtZDMzZDc1MTgyZjFiIiB4bWxuczpkYz0iaHR0cDovL3B1cmwub3JnL2RjL2VsZW1lbnRzLzEuMS8iLz48cmRmOkRlc2NyaXB0aW9uIHJkZjphYm91dD0idXVpZDpmYWY1YmRkNS1iYTNkLTExZGEtYWQzMS1kMzNkNzUxODJmMWIiIHhtbG5zOnhtcD0iaHR0cDovL25zLmFkb2JlLmNvbS94YXAvMS4wLyI+PHhtcDpDcmVhdGVEYXRlPjIwMjEtMDEtMjlUMTg6MjE6MzIuODM0PC94bXA6Q3JlYXRlRGF0ZT48L3JkZjpEZXNjcmlwdGlvbj48cmRmOkRlc2NyaXB0aW9uIHJkZjphYm91dD0idXVpZDpmYWY1YmRkNS1iYTNkLTExZGEtYWQzMS1kMzNkNzUxODJmMWIiIHhtbG5zOmRjPSJodHRwOi8vcHVybC5vcmcvZGMvZWxlbWVudHMvMS4xLyI+PGRjOmNyZWF0b3I+PHJkZjpTZXEgeG1sbnM6cmRmPSJodHRwOi8vd3d3LnczLm9yZy8xOTk5LzAyLzIyLXJkZi1zeW50YXgtbnMjIj48cmRmOmxpPkhFTUFOVCBIQVRBTktBUjwvcmRmOmxpPjwvcmRmOlNlcT4NCgkJCTwvZGM6Y3JlYXRvcj48L3JkZjpEZXNjcmlwdGlvbj48L3JkZjpSREY+PC94OnhtcG1ldGE+DQogICAgICAgICAgICAgICAgICAgICAgICAgICAgICAgICAgICAgICAgICAgICAgICAgICAgICAgICAgICAgICAgICAgICAgICAgICAgICAgICAgICAgICAgICAgICAgICAgICAgCiAgICAgICAgICAgICAgICAgICAgICAgICAgICAgICAgICAgICAgICAgICAgICAgICAgICAgICAgICAgICAgICAgICAgICAgICAgICAgICAgICAgICAgICAgICAgICAgICAgICAKICAgICAgICAgICAgICAgICAgICAgICAgICAgICAgICAgICAgICAgICAgICAgICAgICAgICAgICAgICAgICAgICAgICAgICAgICAgICAgICAgICAgICAgICAgICAgICAgICAgIAogICAgICAgICAgICAgICAgICAgICAgICAgICAgICAgICAgICAgICAgICAgICAgICAgICAgICAgICAgICAgICAgICAgICAgICAgICAgICAgICAgICAgICAgICAgICAgICAgICAgCiAgICAgICAgICAgICAgICAgICAgICAgICAgICAgICAgICAgICAgICAgICAgICAgICAgICAgICAgICAgICAgICAgICAgICAgICAgICAgICAgICAgICAgICAgICAgICAgICAgICAKICAgICAgICAgICAgICAgICAgICAgICAgICAgICAgICAgICAgICAgICAgICAgICAgICAgICAgICAgICAgICAgICAgICAgICAgICAgICAgICAgICAgICAgICAgICAgICAgICAgIAogICAgICAgICAgICAgICAgICAgICAgICAgICAgICAgICAgICAgICAgICAgICAgICAgICAgICAgICAgICAgICAgICAgICAgICAgICAgICAgICAgICAgICAgICAgICAgICAgICAgCiAgICAgICAgICAgICAgICAgICAgICAgICAgICAgICAgICAgICAgICAgICAgICAgICAgICAgICAgICAgICAgICAgICAgICAgICAgICAgICAgICAgICAgICAgICAgICAgICAgICAKICAgICAgICAgICAgICAgICAgICAgICAgICAgICAgICAgICAgICAgICAgICAgICAgICAgICAgICAgICAgICAgICAgICAgICAgICAgICAgICAgICAgICAgICAgICAgICAgICAgIAogICAgICAgICAgICAgICAgICAgICAgICAgICAgICAgICAgICAgICAgICAgICAgICAgICAgICAgICAgICAgICAgICAgICAgICAgICAgICAgICAgICAgICAgICAgICAgICAgICAgCiAgICAgICAgICAgICAgICAgICAgICAgICAgICAgICAgICAgICAgICAgICAgICAgICAgICAgICAgICAgICAgICAgICAgICAgICAgICAgICAgICAgICAgICAgICAgICAgICAgICAKICAgICAgICAgICAgICAgICAgICAgICAgICAgICAgICAgICAgICAgICAgICAgICAgICAgICAgICAgICAgICAgICAgICAgICAgICAgICAgICAgICAgICAgICAgICAgICAgICAgIAogICAgICAgICAgICAgICAgICAgICAgICAgICAgICAgICAgICAgICAgICAgICAgICAgICAgICAgICAgICAgICAgICAgICAgICAgICAgICAgICAgICAgICAgICAgICAgICAgICAgCiAgICAgICAgICAgICAgICAgICAgICAgICAgICAgICAgICAgICAgICAgICAgICAgICAgICAgICAgICAgICAgICAgICAgICAgICAgICAgICAgICAgICAgICAgICAgICAgICAgICAKICAgICAgICAgICAgICAgICAgICAgICAgICAgICAgICAgICAgICAgICAgICAgICAgICAgICAgICAgICAgICAgICAgICAgICAgICAgICAgICAgICAgICAgICAgICAgICAgICAgIAogICAgICAgICAgICAgICAgICAgICAgICAgICAgICAgICAgICAgICAgICAgICAgICAgICAgICAgICAgICAgICAgICAgICAgICAgICAgICAgICAgICAgICAgICAgICAgICAgICAgCiAgICAgICAgICAgICAgICAgICAgICAgICAgICAgICAgICAgICAgICAgICAgICAgICAgICAgICAgICAgICAgICAgICAgICAgICAgICAgICAgICAgICAgICAgICAgICAgICAgICAKICAgICAgICAgICAgICAgICAgICAgICAgICAgICAgICAgICAgICAgICAgICAgICAgICAgICAgICAgICAgICAgICAgICAgICAgICAgICAgICAgICAgICAgICAgICAgICAgICAgIAogICAgICAgICAgICAgICAgICAgICAgICAgICAgICAgICAgICAgICAgICAgICAgICAgICAgICAgICAgICAgICAgICAgICAgICAgICAgICAgICAgICAgICAgICAgICAgICAgICAgCiAgICAgICAgICAgICAgICAgICAgICAgICAgICAgICAgICAgICAgICAgICAgICAgICAgICAgICAgICAgICAgICAgICAgICAgICAgICAgICAgICAgICAgICAgICAgICAgICAgICAKICAgICAgICAgICAgICAgICAgICAgICAgICAgIDw/eHBhY2tldCBlbmQ9J3cnPz7/2wBDAAcFBQYFBAcGBQYIBwcIChELCgkJChUPEAwRGBUaGRgVGBcbHichGx0lHRcYIi4iJSgpKywrGiAvMy8qMicqKyr/2wBDAQcICAoJChQLCxQqHBgcKioqKioqKioqKioqKioqKioqKioqKioqKioqKioqKioqKioqKioqKioqKioqKioqKir/wAARCACuAdMDASIAAhEBAxEB/8QAHwAAAQUBAQEBAQEAAAAAAAAAAAECAwQFBgcICQoL/8QAtRAAAgEDAwIEAwUFBAQAAAF9AQIDAAQRBRIhMUEGE1FhByJxFDKBkaEII0KxwRVS0fAkM2JyggkKFhcYGRolJicoKSo0NTY3ODk6Q0RFRkdISUpTVFVWV1hZWmNkZWZnaGlqc3R1dnd4eXqDhIWGh4iJipKTlJWWl5iZmqKjpKWmp6ipqrKztLW2t7i5usLDxMXGx8jJytLT1NXW19jZ2uHi4+Tl5ufo6erx8vP09fb3+Pn6/8QAHwEAAwEBAQEBAQEBAQAAAAAAAAECAwQFBgcICQoL/8QAtREAAgECBAQDBAcFBAQAAQJ3AAECAxEEBSExBhJBUQdhcRMiMoEIFEKRobHBCSMzUvAVYnLRChYkNOEl8RcYGRomJygpKjU2Nzg5OkNERUZHSElKU1RVVldYWVpjZGVmZ2hpanN0dXZ3eHl6goOEhYaHiImKkpOUlZaXmJmaoqOkpaanqKmqsrO0tba3uLm6wsPExcbHyMnK0tPU1dbX2Nna4uPk5ebn6Onq8vP09fb3+Pn6/9oADAMBAAIRAxEAPwD6RooooAKKKKACiiigAooooAKKKKACiiigAoornPFWpzrc6b4f0yUw32sSOpmU4a3t0XdLKP8AawVRfRpFPOCKAOgimjnTfDIsi7iu5GBGQSCPqCCPqKfUFlZW2nWMNnYwrBbQII4o0GAqgYAqegAooooAKKK5L4nz39j8N9a1DStTudOubKzlnR7cJliFOASynA7/AC4PHWgDraCQoJJwBySe1V9PZn0y1Z2LM0KEknJJwKsUANiljnhSWF1kjkUMjochgeQQe4p1cnaznwz44j0YnGl60sk1guOLe4T5pYh/supMgHYrJ6gDrKACiiigApgmiad4VkQyooZoww3KDnBI7A7Tj6H0rN8Ta4nhzw5d6m8RneJQsMCnBmlYhY4x7s7KPxpfD+lPpemj7Y6z6jcHzr64Uf62YgZI9FGAqjsoAoA1KKKKACiiigAorK8TW+sXXh26g8Nz29vqThRFJclggG4bslQSPl3AEcg4rmvC9xfQ/E3xBpNld3V9oFrawMXup2mNreEndCsjkswKbWIJO0kdM0Ad1TUljkLiN1cxttcKc7TjOD6HBH506uU8Vzf8IxeweKofltVeO21ZB0aBm2rN/vRswOf7hf0GADq6KKKACiiigAooooAKKKKACmSTRRNGssiIZG2IGYDe2CcD1OATj2NPrlfC0/8Awk17P4omANtvkttJXqFgVtrTfWRlyD/cCY6nIB1VFFFABRRTJpkt4JJpTtjjUuxwTgAZPAoAfRXFx/E7Tnsbq8fSdXit7K8jsruSSGMCCV3RFB/efNzIudm4jvg4B7J3SNC8jKijqzHAFADqKrf2lY/8/lv/AN/V/wAamkUzQMscrRl1IWRMErkdRkEfmCKAH01JY5GdY3VzG21wpztOAcH0OCD+Irj/AIcXt/d2/iOPU9QuNQe0165to5rjbu8tAgUYUBR9AAOTU/i2c+Gp4PFcHy28DpDqyDpJbMceYf8AaiJDZ/u7x3GADq6KAcjI6UUAFFFFABRRRQBS1HU001Yy9reXHmE4+y27S4x646VR1PxLHYeHTqS2lwZZJEt7a1nQxPLM7hEUgjIBYjJwcDJ7VxPiSfR0+MsMOsXbC3g0iW8uYZHytwXZI4rfaPvj91K4jOSWYkA9lsrHVbDwP4Cj8ReatxHrUclxE7bmiVxN5MbHP8BeJe/3cUAemQCYW8YuWRpgg8xo1KqWxyQCSQM+5qh4h1K40fRZtSt4ROlmPOuIsEs0K8vsx/EBkgc5xjjORyev6RHq3xf0WDzLllisZ7u8xIVXyhtjjh4x8rM7swP3tgzkAAQfD6+hn+G2qSzpIluz3d0YGTEdrFI8jrbqO2yPblcYXdj2oA9DhljuIUmhdZI5FDI6nIYEZBFPrnfh8k0fwz8MpdZ85dJtQ+eufJXr71mz6fqZuJCun68QWOCmsqoPPYb+B7UAdpWFq/iqHR/EGk6TPY3btqs/kQ3ChfKVgjOQTuz0Q9B6VL4dguYLeYXUF9CSwwL28FwTx2IJwPauU+Imr6bZ+MvBKXd/bQtb6q00wklVTFGbeVQ7ZPyruIGTxmgD0OmedH5PneYvlbd+/cNu3Gc59KVHSWNZI2V0YBlZTkEHoQa4uKzkimNysUv/AAivmeYtiR8ynr5gXGfJzz5fb72NuFAB21cRpDjU/jZ4juHx/wASfTLSwjA55lLzOfbOIx+Art64PwVKW+J/xEjl2iVb2zYhf7ptECn8hQBv+LvFUPhDQ5NUu7G7uoI8BvswU7CSFG7cwwCWHTP0rdrgfjTe21v8LtSt57iKOe4MQhiZwGl2zRk7R1OBycdBXb2V9aalZpd6dcw3VtJnZNBIHRsHBwRweQR+FAE9FZpg1vcduoaeB2zYP/8AHquWq3KQgXssUsueWiiMa4+hZv50ATVgeNtCvfE/hG/0SxuYLX7fA8Eks0bPtVlIyACOaff2niyS+kbS9Z0a3tCR5cVxpEs0i8c5dblAec/wj+tVvsPjj/oYfD//AIIp/wD5LoA2NIgvbbS4YNSkgknjUJut0ZVIAwOCSc1drmvsPjj/AKGHw/8A+CKf/wCS6u6VbeJIbstreq6Vd2+wgR2emSW7hsjB3NPIMYzxj059QDn/AIsubHwlZ65GMy6LqtneLjPTzVjccdikjA+1dxXA/HEbvgp4iXazEwxgBepPmpiu+oAakiSFgjqxQ7Wwc7T6H86EkSVS0bq4BKkqc8g4I/AgiuO8QWmo3utXDeFFlt5URV1OVX8pbpcAiKMkY87b0k4CghSc42dJojWTaLbf2XAba1VNqQtGUaPBwVKnkEEEH3zQBy/jVvt3jvwNorjMcl/PqMnHa2hJX/x+VD+Fdhe3LWdm86W010yYxDAAXbJxxkgfma4nxCzj45eDA5xGdP1EJnu2Is4/ACu2vL21060e61C5htbePG+aeQIi5OBljwOSB+NAGf4V8RQeK/DVrrVpBLBDdb9kc2N67XZOcEj+HsTWvXA/Ba9trj4XabbwXEUk9uZRNErgtFumkI3DqMjkZ6iuxuYtUacmzvLOKLjCy2jOw/ESL/KgC7RVW0j1BGb7fc20y4+UQ2zRkH3Jds1V1eDXpni/sHUdOs1APmC90+S5LHtgrNHjv6/hQBLrlvqV3od3b6HeRWN/LHshuZYjIsRPVtuRkgZxz1x16VheD/DviDQ5CutatY3VrHCUggsrR4RuZgzSSFnYuxx9488se5qf7D44/wChh8P/APgin/8Akuj7D44/6GHw/wD+CKf/AOS6AOlqhr2lprfhzUdKmAKX1rLbtn0dSv8AWs62s/GS3UTXeu6HLbhwZUi0WZHZc8gMbohTjoSDj0PSugoA5b4Y6u+u/C7w9qEzFpZLGNZWPVnQbGP5qa6jeu/ZuG7GduecetcD8D2Z/g7ozsxbc90yknOVNzKV/TFb3iqN7n7JBpkb/wBs7i9ncKMLbYxveQ9DHggFP4+AMEblAOgDqXKBhuABK55AOcH9D+VLXP8AhOJre3uYb+GRdXDhr+eTn7QxHEiNgAoQMKBjaBtwCK0ZodUbXraWG6t10tYXWe3aEmR5CRsYPnAAGeMf/WAL9FUPJ1T/AISLzvtVv/ZH2XZ9m8k+b5+/O/fnG3bxtx15zRDDqi69cyzXVu2ltCiwW6wkSJICd7F84IIxxj/64BeLqHCFhuIJC55IGMn9R+dG9d+zcN2M7c849awPFkTXFvbQ2EMjauZC1hPHx9nYDmR2wQEAOGBzuB24JNO8NebGbqHVImGsKwN3OQdlwOdjRntH1ATqpznJO5gCt8StXk0L4ZeINQgLCaOxkWEr1EjjYh/76YVsaDpaaJ4c07SoQAllaxW649EUL/SuR+NrvF8HtadCBta2LE9l+0x7j+Wa72gDB0XxVDrXiLVdHWwu7SfS44JJTchRvEvmbdoVj/zzPXHWt6vO/DOtaXL8aPFyx6laObq20+OALOp850Wfeq8/MVyMgdM813l2l46L9gnghbPzGaAyAj2AdcUAWKKz4odYEyGe+sXjB+ZUsnUkexMpx+RqfUUvpLCRNJuLe2uzjy5bmBpo15GcoroTxkfeGDzz0IBxj/D+8/4RjT7BNQga8h1ptYupZIyUuJDJJIAQDnCs6EDv5YHGcjtBZo+nraXuLxdgSQzop83A6sMY569MVhfYfHH/AEMPh/8A8EU//wAl0fYfHH/Qw+H/APwRT/8AyXQBp/8ACN6H/wBAbT//AAFT/CrzoyW7JahEcJiMMPlBxxwO1c99h8cf9DD4f/8ABFP/APJdH2Hxx/0MPh//AMEU/wD8l0AReDfDeq+HLjVjf3lncw6lfzX5EMLoySSFflyWIKjB9+a3tX06LV9EvtNuADFeW8lu4PdXUqf0NZUFn4zW4jNzruhSQhwZEj0WZGZc8gMbogHHfBx6GuhoA5L4V6rLrPwr8P3dyd04s1hlJOSXjJjYn3yhrra4T4LsjfCjTmiQpG1zesikYwpu5iP0ru6ACiiigAooooAw9L8LxaX4o1bXV1G9uZ9VEaywz+V5cax52BNqBgFDMOWPUk5PNX9X0uDWdLlsbvcqSbWV0OGjdWDI6nsysqsPcCrtFADIFlW3jW4dZJQoDuqbQzY5IGTgZ7ZNUdd0ga7pMmmzTNFa3BC3SqOZYv4o89g3Qnn5SQMEgjRooARVVECooVVGAAMACloooAKKKKACiiigArh7BX0n436vC4xDr2kwXcbE9ZLdjE6j/gMkZruK57xdotzqEVjqmkKp1fR5/tNorNtEwKlZISewdCRns209qAOhoqrpuoRappsN7AksaSrny5kKPGehVlPRgQQR2INWqACiiigDmfF+h/2lJY6g1rcarHp4mJ0dBCYrxnXaC/mkAbeoIORk9c4rzXSNVvJfD/w48MQXg15NSa8kvfMleNZDACwt5GYFgiM4UgqS3lgEYJFeo6z4Y/tHxBYa7ZXhtNSsYZbeNnQyRlJNu7KblyflGDn6g8Yy9P8AhtYaNpekRaRdyRX+k3E1zDezIJDLJMGEvmKMZVt3QEEYXB4oA5mLSbTxP4Th0iwsrqRLLxLcxX1mdQ8kQSKkxKpKgUiIM6EbVztPIJzXZeBLrS30e607SbL7A2k3klndW5lMpWVcEnzG+ZwwZSGPJB5wRgVo/h1Y29vby20//Ezg1OXVfts0QcSXMoKuzJkDbggAAgjavPBzr+G/Dlv4btbzZM9zdX9095eXMgAMsrYBOBwqgAAAdAO5ySAYHxRj/tPSdG8OoQW1nWLaJ0xkmGN/PkP4LF/TvXcVzGlWja54obxNcoVtbaFrXSkdcEoxBlnIPTeVVV/2Vz/HgdPQAUUUUAcN4+jax8VeC/EIAMdlqjWU5I+6l1GYgSew3+X+YruazvEGiWviTw/eaRqAbyLuMozIcMh6qynsykAg+oFVfDGpXl1YvY61H5erafiK6wMLN/dmT/YcAn2O5TypoA26KKKACsrxNo76/wCHbrTY7yezM2zMtuFL4VwxXDcEMAVIPBDGtWsfxP4btvFOjiwu5JIgk8VzHJG2Cskbh1yO4yOR6ehwQAeS6jr114W8P/Ei70syaTdLcWcdtoibQ2nrLsi85duYw0m4v8pKgqMnOa3xZ29pf+KvD9rZNp+r3HhsSRW0N4JYJ0PnIshZkU+dvJDMxOQVOTzXQSfDaw1FNfk166lvrzXo4oriaNREsKxf6sRJzt2t83JbJ656U+f4e22ryapceJbw6jealp66a80cIhWOBWLgKvPJdtxJyCQBgDigCn4LtNH8MeJJvDcWlSWGpTWQvlkkvpLwywh9hHmPyrK23KD5fmBBPNdL4t1lPD3g7V9Xdgv2OzllUnuwU7R9ScD8aq6V4UFp4kbX9SvPtuoizFhCUhEUcMAbcQEBPJbBJJ7DAHetrtq3ivW7fRtudKsJ47rUXI+WaRCHigHY/MFdvQBB/FwAWfAWiP4c+HuhaRMu2a1sYkmHpJty/wD48TXQ0UUAFFFFABRRRQAUUUUAc78QNEfxH8O9d0mFd811YyLCo7yBcp/48BVvwprI8Q+D9J1cEE3tpHM4A6MVBYfgcj8K165PQrZvCWvXOiMjf2VqVxJdabIB8sEjZeW3P935t0i+oZhxtGQDrKKKKACiiigCC+tnvNOubaO4ktnmiaNZ4jh4iQQGX3GcivJYJP8AhCvGmqPHusjp/hV2js5EUNrMsJJa6YRZTI247Od54AFep63pNvr2g32k3rSLb30DwSNE21wrAgkHsea52y+HtsNYg1DWrttRaz05tMtIfL8uOOFhhs8ks7AAEk49qAOT8EXCR6l4GvNahmh1PXNMmmivIrsOb+Roo5ZPtC7AQABmMBiFAxgcVZ8Iadpvg/XNJGraRJDqOuPMlteNqD3IEgBcjYTsi3LuxszkcHHSuk0r4fW9jc6Qb6+kv7fQbaS00uF4lQwxugQl2H32CDYCNowTkE80aV8PrbTrvRTNdme08Pq66XbLCIxFuXbucj77BSQCAo5JIJ5oA6+szxJrEfh/wtqerzsFSxtZJznvtUkD8SMVp1y/iCzbxTqlvom3Ol2s0dzqbleJWQh4oB65YK7eiqB/HwAP+Heiy+HvhxoWmXOftENmhnz1EjDc/wD48x5rpaKKACiiigAooooAKKKKACiiigAooooAKKKKACiiigAooooAKKKKACiiigAooooAKKKKACiiigAooooAKKZJPFE8aSyojStsjVmALtgnA9TgE/QGn0AFFFFABRRRQAUUUUAFFFFABRRUctxDAYxPLHGZXEcYdgN7HnaM9TwePagCSiiigAooooAKKKKACiiigAooooAKKKKACiiigAooooAKKKKACiiigAooooAKKKKACiiigAooooAKKKKACsfxRpM+taKbW2vZ7QrLHK/kKpadEYM0RDEDDgbTkgc88ZFbFY3ibw+fENnaRx3ktnPZXkV7BIhbaXjJwrqrKWQ55XI7elAHlU/ibUNE8J+KfsE9xa3Fx4hhsbfSlYGfS0lZFOMnALruddpKAsCD1rfa2Hk+NdBsYtQg1Q2MDjT7e78xCjK4WSByFbexBDFudyjnGDWufhnbXUOuz6pftPq2tXNvdS3kUPlrDJb48jZGS2Au0ZBYk5OTzxJefDqDWY9al8QXa3d/q8UEMksMJijijhbfGqoXY435LfNznHFAB4JGn6Pqt74e8rUYdWS3iu5P7Qv2u3mhYsiMsjMeAVYFQAAfXOa6TVdRfSkW7lRWsIwxupB96Ff7+O6jnd3A57Gs/SPDElp4mvPEWrXqXuqXNtHZq0MHkxQwIxYKqlmOSzEklj2xjFaWo6VFqkluLx2e2hbzDbfwSsMFS/qARkDpnBOcDABFouqS6xFJepB5WnybTZu2d8y/89CP4VPG0dccnGcDnviBpVxJa3Grql5qUNtp1xCulQKuDKwBWfJYEMu3Hy5b5jgZrqbHTo9OaZbZ2W3kbckH8MR53bfQHrjoDnHWsfVvDN5c+JP7c0jVjZXbWBsHSaJpogm/fvVA6ASZ/iOeABigDgrLWtQ1K58D+G471fEUM+jPf3NyLhoor102qvmPgsUBLZBUlm27h1ro/CmsRXngTS9P8PXt5Nc3TTxCa9KtLaqkrLKzYG35CdiYGCfL7ZNWNN+G1t4etNAHhq8FrdaHbS2kc11D56zxykM4dQyHO8BgQRg57HFWLL4daLYeGIdKW0srueHe63d/ZJO293Lu209AWY8A8celAEPwgnlufhD4cmuJXllktAzySMWZiWOSSeprW1DxINF1M22rQMsdywXTpIRuNy+OYcdpMgkZ4K85G1sReBvCEHgfwtDolrMk8cLEiUQLEz8AZfH3m4+96YHarl14csNQvLm41RDeGePyUWU8QR8EhMfdJYBiw+bIXn5VwAaFo1y1ojXyRpO2SyRklV54GT1wMDPGeuB0qGy1fT9Sury3sLuKeaxl8m5RGyYnwDtPvg1LZW72llHBLcyXTRjb50uN7DtnGMnHfvUqRojOyIqs53OQMbjjGT68AUAVdO1fT9WN2NNu4rn7Hcva3HltnyplxuQ+4yPzo0zV9P1q2kuNKu4ruGOV4XeJsgOhwy/gatJGke7y0VNzFm2jGT6n3oSNIl2xoqAknCjHJ5JoAw9X8SDw9ef8TiEixuCqWk8Cl2aY8CFlHO5j90jg/dODjdqadJeTWKSalBHb3D5Ywo+7yxnhSehYDGccZzjI5qrdeH7PUNQludVX7crRGGK3mUGOFGGHwvdm5yx5xwMDObWm2bafYpatczXQjJCSTnc+3PClv4sDjJ5OMkk5NAHP6XMdS+JevPNyNJt7e0t1PRPMUyyMPdv3YP8A1zFcudOvdA+Ivhe0uNTuleS4u3udUuSqDVN6lktgqEglcjG/bgR/LnoOstbVtK+IWoyyIRba3bwtHKOgniDKyE9iY9hHrsf0rKsfhp5L6Bb3+syXuneHrlrqyheI+c8pLbTLKztv27jgKqjp2GKAOU0LxA2s6fpHivXjd20V94iaGG8huMeWBK8UUHllSBA20BiCCWJJGMmtV7S28PeKbnX/ABNb6wtrNrAiilk1Jvssbu+2KT7OGxtyVG4jg84wN1bi/DmILb6e1+G0K11Q6rDY/Z/nWXzGl2GTdjyxIxYDaD23EUk/w4iuDJYyX6jRJdWOrzWggPnSzGTzNrSlyNm/BwEBwAM9SQDrr7ULPTLVrnUruC0gUgGWeQRqCenJ4rMHjTwsxAHiXSCTwAL+Ln/x6tuigDM8Q6u2h6LNfpatdGIFigbaqqASzM2DtUKCc49upFYujeOJdT1LQ7a50eSyTXLGS8tt8weSNUEZPmIBhQfMGCGPuAeBs+JtE/4STwvqGitcvapfwtBJLGuWCNwwH1XI/GqM/hFJPGFtrkN9JbpBZpZ/Zo1x8iyeZhWB+UMQoYYO4Io4GcgGpqOt6Vo/l/2vqdnYebny/tVwsW/GM43EZxkfmKyND8Z6FfR+U3iHTJrmS7miijW8jLOPOZYwADk5G0D14rpap6ZaPZWjxSlSzXE8o2njDys4/HDCgCn4stvtHhXUcT3MDRW8kqvbTvC2VQkfMpBxntmsTw7YP4g+COi2s8sjT3WhWpWYtl1l8lGWQE/xBwGB9Rmuj1zT7jVdHnsbW8FmbhGjeUxeZ8rAggDI5561hraXfgv4cppdtcNqV1a2yWOmhYvLd2CCOJTgnuMs3GBk8AUAanhHWG8Q+C9G1iTAkvrGG4cAcBmQFh+BJrYrN8OaOnh/wvpejxsGWwtIrYMBjdsQLn8cZrSoAKKKKACiiigAooooAKKKKACiiigAooooAKKKKACiiigAooooAKKKKACiiigAooooAKKKKACudllu/NfF3rwG44C2sBH4Zj6V0VFAGfpDStFJ50t9Kd3BvIkQj6bFHFQ6tN4hiuEGhWGmXMJX52vL6SBg2egCxPkY75H0rWooA5r7X44/6A3h/wD8G8//AMjUfa/HH/QG8P8A/g3n/wDkaulooA5r7X44/wCgN4f/APBvP/8AI1H2vxx/0BvD/wD4N5//AJGrpaKAOa+1+OP+gN4f/wDBvP8A/I1H2vxx/wBAbw//AODef/5GrpaKAOa+1+OP+gN4f/8ABvP/API1H2vxx/0BvD//AIN5/wD5GrpaKAOa+1+OP+gN4f8A/BvP/wDI1H2vxx/0BvD/AP4N5/8A5GrpaKAOa+1+OP8AoDeH/wDwbz//ACNR9r8cf9Abw/8A+Def/wCRq6Wmyb/Lbytu/B27ume2aAOc+1+OP+gN4f8A/BvP/wDI1H2vxx/0BvD/AP4N5/8A5GrmtD1nxFZ+N7HS9U1aO+NtpMtxr4CgRRShh5bQkorYPzAjkAAZ5wTB4P8AGF/4muPD2rz6tLZRavNO4sprXEEkYV9sET4GZFwHZifmKtt4BUAHWfa/HH/QG8P/APg3n/8Akaj7X44/6A3h/wD8G8//AMjVgeHdTvz4rl/t7xVf+VPqd7BY6dJpiwwsUlkCxifZ+8wibgAwJ99pAsaLpXiGx1nTZLmXU54nur6Scz3pdUi37IEZc45QmTIHDLt4GBQBr/a/HH/QG8P/APg3n/8Akaj7X44/6A3h/wD8G8//AMjV0tFAHNfa/HH/AEBvD/8A4N5//kaj7X44/wCgN4f/APBvP/8AI1dLRQBzX2vxx/0BvD//AIN5/wD5Go+1+OP+gN4f/wDBvP8A/I1dLRQBzX2vxx/0BvD/AP4N5/8A5Go+1+OP+gN4f/8ABvP/API1dLRQBzX2vxx/0BvD/wD4N5//AJGo+1+OP+gN4f8A/BvP/wDI1dLRQBzX2vxx/wBAbw//AODef/5Go+1+OP8AoDeH/wDwbz//ACNXS0UAZukS63Ksv9vWen2pBHlfYrt593XO7dGmO3TP4VpUUUAFFFFABRRRQAUUUUAFFFFABRRRQAUUUUAFFFFABRRRQAUUUUAFFFFABRRRQAUUUUAFFFFABRRRQAUUUUAFFFFABRRRQAUUUUAFFFFABRRRQAVBfQz3Gn3ENpcG1nkiZIpwobymIIDYPBwecVPRQB59b+D/ABDqniTwvqHia4t/+JBaXEM80M5d9RkmjVGJARAi8bu5zjjjJg0b4eala2/hXSb6S2XT/C109xDcxylpLsBXWMFCoCcPluTyuB1yPSKKAOAPg7X9ROg2Gt3sc9pomq/2kdQecyXF2VMhjTZsAQfOAfmOAoAzkkd/RRQAUUUUAFFFFABRRRQAUUUUAFFFFABRRRQAUUUUAFFFFABRRRQAUUUUAFFFFABRRRQAUUUUAFFFFABRRRQAUUUUAFFFFABRRRQAUUUUAFFFFABRRRQAUUUUAFFFFABRRRQAUVj69rVxpU2n29lp73txfzmFCS6xRYUsWkdUcqOMDjqR061h2PxHt73wzbX4sHW+utSfSoLLzQRJcK7KcSY5jARmLY6A8Z4IB2lFcjc+L9ZtPD9zdyeFpX1GHUlsI7JboKtzllAkjkdVBX5uMgcqR71X8UeL/EGgfDK/8RSaFBaalbyRCOwnuRMNrSohLsmADhmOFJ6DnqAAdtRRRQAUUUUAFFFFABRRRQAUVleJNcHh7RJtQa2kuRErMUQ4AVVLMzN0UBVJyfYdSKzdJ8aLqeraXZyaXc2Y1axkvbRpmXf5aeXnzEBOwnzVxyehzg8UAdMGDDKkEZxwaWuL+E+mvpPgP7LJuDLqV+NrLjGLuVen4Z/GuqsNUsdUSZ9NvIbpYJmglaFwwSReGQ46EdxQAXmo21jLbRTv+9upRFDGoyzt1OB6AAknsAa52Xx9bWT339q2F1Zpa2v2sFgNzKZTEqsDjY7sPlBOCDnPBxHZTf2n8Y9VEhyui6TbRRKf4XuHkaRh9VhjH4Vn3vw91LWPtbarqVvvls1gZoYsLeSpOs0c0qAADbsC7Rnh2+agDVuPGzwWNvOmkm4ae6e3HlXsIjIUZ8wSOygr2wOcg4Bxmugg1KCXUZdPZtl5DGkrxHujZAZT3GQR9RzjIzyx8Jasq388V1atLqVzcTT2ko3wx+bCkQ2uU3HaI84AXcXYEgVDrdr/AMIxd+A5Ip2me2u10eWaQ4aaKSBhyfUyRRNj1FAHdUUUUAFFFFABRRRQAUVzHxA8SX3hXwx/aWlw29zcm5ht47efd++aSQIqgjoctnvwDUEnifVdK8caL4f1mCzuBrSXBhns96mAwoGO9Wz8pBxuB64GOc0AddRRRQAUUUUAFFFFABRRRQAUUUUAFFFFABRRRQAUUUUAFFFFABRRRQAUUUUAFFFFABRRWK+r3qyMoj0nAJA3amwP4jyuKANqiqenXc13G7TraqVOB9muTMPxJVcVV1bxFa6NcJDc2mpzs67gbPTp7hQM45MaEA+xoA1qK5r/AITrT/8AoGeIP/BDd/8Axuj/AITrT/8AoGeIP/BDd/8AxugDpaK5r/hOtP8A+gZ4g/8ABDd//G6P+E60/wD6BniD/wAEN3/8boAXxXq/2G506wvNOml0nUTLFfahFctELIBMpnZ83zn5cgjH44rzDT9D1FtB8NXOrWMq+H9F8SXItomtirnTWV1hlkjABxk/NuGSrbm4ya9O/wCE60//AKBniD/wQ3f/AMbo/wCE60//AKBniD/wQ3f/AMboA4qyt5Y9P1ZpdFW78L3PiWOS2hnEkawW21TJOqKCTH5oJC4CnLE/Kc1Jb22dD8Zk2V+3heXULZ9KtrOzaSQgCLzWhi4PlmUFhgAfeYV2P/Cdaf8A9AzxB/4Ibv8A+N0f8J1p/wD0DPEH/ghu/wD43QB0tFc1/wAJ1p//AEDPEH/ghu//AI3R/wAJ1p//AEDPEH/ghu//AI3QB0tFc1/wnWn/APQM8Qf+CG7/APjdH/Cdaf8A9AzxB/4Ibv8A+N0AdLRXNf8ACdaf/wBAzxB/4Ibv/wCN1v2d0l7ZxXMSTRpKoYLPE0bj6qwBB9iKAJqKx59WvI7iREj0oqrEDzNSKtjPceUcH2yas6dez3bSC4WyXaBj7Ndmb88ouP1oAr+K9C/4Sfwrf6J9qa0S+j8mSVU3EISN4xkdVyvtnNUpvCTyeOovEMWotFElnHafZFiwQqOz4VwwwrMU3DByEAzg4rR1fXrfRTCLm11Gfzc7fsVhNc4xj73lqdvXjPXn0rN/4TrT/wDoGeIP/BDd/wDxugDW0WwutN077Pf351CYzSSGcwrFkM5YLtXjgHGe+MnrVuG3htg4t4Y4g7mRxGoXcxOSxx1JPU1z3/Cdaf8A9AzxB/4Ibv8A+N0f8J1p/wD0DPEH/ghu/wD43QBVtrc6V8YL+V1xDrulwlHPeW2dwy/XZMpx32t6GtrxJrf/AAj2iSaibSS7EbKDFGwDHJwAM9ycADuSBwORkXXizRr3yDdaPr8ht5VmiY6FeAxuM4YER5HBI9wSDwSKLzxZo2oW6w3uj6/LGsscwVtCvPvxuHQ/6vsyqfwoA2NE1k6u2oRvb+RJYXX2Z8PvVz5aPkHA6b9p9GVhzjJx/FcLar4r8K6XBnMF82qXDDB2RQxsoz9ZJYwPo3oaisfEuhabJcPZaL4gia5kaWU/2HencxYsTzHxyzHA4yT61NH4u0eK7muk0fXxPOFWST+wbwswXO1c+XwBknHTJJ6k0AdXRVXTdRi1SxW6giuYUYkBLq2eBxg45RwGH5VUvNTure7eKJNNKLjBnvzG/TuvlnH50AatUtZMo0S8+z6hHpsxiYR3kiBlgYjAYhiAcHsSKisNQubq58udNPVdpObe9Mrf987F4980zxHdWFvpLRatZXV9a3J8p4bazkuScjPKxqSBx17HHfFAHC23ibW59YGgRSSmaTV7qJopHAmtYI7dZI42kAIJYur7hu+VtucgkWrHxQ1zJoes/wBuXs+kz2enxSRIbdS89w7KjzRhC65LJnayr6BgDVkah4WWAxLoPiJS1wbkyjSL8SmUrsLmTZvyV+Xr93jpxTxqnhdZreRPD2uoLYRiKJNDvVjXyxiM+WI9pKjoSMjAx0GACl8QQde8Y+FNCey1ZtPg1E3t9dWtncBI2SI+SPORcDLuOQ3y7TkjFbWoW+neDZYNRsdKuNQvryeKy86a7eaYK8iqFEkrMQoLbioIGFJ7Cp/+E60//oGeIP8AwQ3f/wAbqC58W6NeSW73Oj6/I1tL50JbQbz5H2ld3+r9GP50AbOg6wNc057nyfJaO5nt2UPvUmKVoyynAyCVOOBWnXMeHtY0WKZdN0jSNWshPIzkzaRcwx7sZJLugA4GBk+gHaunoAKKKKACiiigAooooAKKKKACiiigAooooAKKKKACiiigAooooAKKKKACiiigAqsdOsmJJs7ck8kmJef0qzRQBHDbw24IghjiB5IRQM/lWd4i16Lw7paXc0Es5kuIraNIlJy8jhFzgHC5PJweOxOBWrWH4r10aDpttLLZzXFtc3cdrcyxTCIWkb5BnZ8jaq8cgg8igDOtviFp403XZ9Vgks59BuBbXkKHzQ8jBSgiYY37t6gAgHJwQKlm8YXVnputT3+g3cM2k26T+UrblnDgkIkmArONuGAyASOTXl2oadd6j4c8U2mjrLc+HLHxDZX1vfwszTXSbke6PmD5pfLbkOST8pGTtAG/NN5c/jJvDtgNU8LtaWgSCyuRDC07MRM0UighQIyrOR3Hrk0Ada3jHUk8H6rr154butLWxgMyQX8qeZKFBLfKhbHA4B5Y8YHWtHQden1PUNRsr63ht57F0Rlim3jc0aOy8gZ2iRMnGPmFc34cEF/4+1e20Yx3/hL+z4C53+fbm98xywQnIJ2bC2O+M813MNla29zPcW9tDFPcENNKkYVpSBgFiOTgcc0Ac4/jRLfw5rHiS4hZ9JspHjtlgjZ5Z/LYo749C+QAB91d2TuwC18eWS3ev2mtxf2bNoEEdzeN5nmReU6FlZWwDnCkFSoOemc1j+GdZl8M/BDSr7+z59QltIUhuYYWCMGEnlyuSegU7mPpg9Oo4vxDpl7rWnfEbSvB27VdLu7CC5S8WQzvJdAjdAsxJMo8tBwS20kKMZxQB6hb+Lp3N19t0O8sxDp39oxs4yrJlv3bMBtWT5c7AWwDmpfC3iTUfEcJuLvw3faLBsBRr6SPdIT/AHVVicY7nHsD24hblD4o1ebwdbNq2gN4YdrmC0m+W4vN52KWwf3xTcGOC3TIJxWj4anR/iBYJ4Vk8zR/7IY6okV0biGK43r5Y3knMv8ArAe5ABPagD0eiqGow6vK6HSb6ytVAO8XNk85Y+xWVMfrUVlb69HdK2o6lp1xb4O6ODT5InPphjMwH5UAalVtSa9TTZ30tIpLtV3RRzEhZCOdpI6Z6Z5xnODjB43x7pP9r+KfClohud818WleNyohgiRpJMFeVLt5SE56dMc034dSxrrniqG3tntoTqkgitY49kNskSpCvHZpDG0mAORgnGRkAu6v47+z6L4W1TR7L7XBr+p2tmRK/ltBHMGJYj+8u3G31zXYV5hoSWsngTw0995zI3iSWa0MNs0wO66naInA+RNpHzngDFen0AV20+zdyz2kDMxySYgST+VPhtYLck28EcW7rsQLn8qlooAKKKKAOX8T+KNR0W7uIrHSDNDa6ZNqMt7cFkt/3Z/1O8KQHIyeegGcHtXXx/Dd2ugixt0iu9ZsRqJS+l8pLS3wmXc4OTukRQB1J6gCq3jm4+2yahomt6Fc3GkSaaZba7tI5ZpJLnLDywkanDAYIJPPvzjm9L0bVbTxH4X8S/ECze8l/wCEcksLsx2huDDcmVXXekanlkLrkDG4EdxkA6i88Y+IodJ0Oa18KB9Q1FJGuLG5v0gNqFxli+GBHI464P4Vb1TXNcsZ9FgkTTbWW7Esl6D5k6wRpGzMykbMhT5a5xzv6DHPI+GNN1DRfCvhG28Y6HHd2tvDdmV5baS5msyz5gjEaK3/ACzO3kcbdvBwG6v4a6fqOneCbeHV4nhfzp2tYJh+8t7ZpWaKNvQhNvHYYHagDX8K6tNrnhPTdTu1jS4ubdJJkiztRyPmUZJ6HIxk4x1Na1IiLGgSNQqqMBQMAUtABUEllaTSF5baF3PVmjBJ/Gp6KAIYrO2gffBbxRtjG5EAP6VNRRQBw/iDx9faDNdTzaFL9gtdTt9PDSsySXXm7R5kI24cKXxjPO1uRjFT6x45ng1PVLHQNNj1O40pYxPEbkRvNK67hDECOW2fMSSMAjAbnHMeOrnW9Yhuk0/w/PbeK9M1aNdBnWKSWOSLcm6Z32+WqlGkDAk44HXFU/EHhu5s3+IVqmnXd1qWvPHPpFxHA0mWMaqAHAxGUkXJJIwAp7UAdpqXirxAnjabQdD8PWt9DFBDJJeXGpCARmQvxs2MWwEJ49Pxqv4h8Wa1pWsarDb/ANnG2sYLR0MkTlmkuJTEqM28AZYEk4+UFSc54w/FljcT2viO11PQEutZn0iK20nULWzkllnn8t+fMC7YtkpBBypA+Y8AGvRdJtbiPQ7KLVik96tvEt1JgESSBRuPTnnJoAuxyLNEkkZyjqGU46g06iigAooooAKKKKACiiigAooooAKKKKACiiigAooooAKKKKACiiigAooooAKKKKACiiigAooooAKKKKACiiigChpulJpdxem2kxb3UxuBBt4jkYkyEH0Y/Nj+8WOecC/RRQAUUUUAFFFFABVbUrWW+02e1guntHmXZ58Yy6A9SuejYzg9jg4PSrNFAEFlZW+m6fb2VjCsFtbRrFDEvREUYAH0AqeiigAooooAKKKKACiiigAooooAKKKKACiiigAooooAKKKKACiiigAooooAKKKKACiiigAooooAKKKKACiiigAooooAKKKKACiiigD/2Q==)\r\n",
        "\r\n",
        "\r\n",
        "\r\n",
        "> Indented block\r\n",
        "\r\n",
        "\r\n",
        "The equation expresses the fact that the first person has no one to share a birthday, the second person cannot have the same birthday as the first (364/365), the third cannot have the same birthday as either of the first two (363/365), and in general the nth birthday cannot be the same as any of the n − 1 preceding birthdays.\r\n",
        "\r\n",
        "The event of at least two of the n persons having the same birthday is complementary to all n birthdays being different. Therefore, its probability p(n) is p(n) = 1 - p_bar(n)"
      ]
    },
    {
      "cell_type": "code",
      "metadata": {
        "colab": {
          "base_uri": "https://localhost:8080/"
        },
        "id": "ijfc5DN1PHAO",
        "outputId": "103d21b3-d534-4396-bbbe-0ed5c37c859c"
      },
      "source": [
        "from decimal import Decimal\r\n",
        "nPeople = 23\r\n",
        "\r\n",
        "def P_pairBirthdayMatch(nPeople):\r\n",
        "  P = Decimal(math.factorial(365))/(Decimal(math.pow(365,nPeople))*Decimal(math.factorial(365-nPeople)))\r\n",
        "  return 1-P\r\n",
        "\r\n",
        "P = P_pairBirthdayMatch(nPeople)\r\n",
        "print(\"Probability of mathing pair of Birthday from {} people is {}.\".format(nPeople,str(round(P*100,2))+\"%\"))"
      ],
      "execution_count": 108,
      "outputs": [
        {
          "output_type": "stream",
          "text": [
            "Probability of mathing pair of Birthday from 23 people is 50.73%.\n"
          ],
          "name": "stdout"
        }
      ]
    },
    {
      "cell_type": "markdown",
      "metadata": {
        "id": "OEFWDiXsOSCP"
      },
      "source": [
        "#Sampling with and Without Replacement"
      ]
    },
    {
      "cell_type": "markdown",
      "metadata": {
        "id": "LMtS4z-mOYJv"
      },
      "source": [
        "Q. 9. You have a fair, well-shuffled deck of 52 cards. It consists of four suits. The suits are clubs, diamonds, hearts and spaces. There are 13 cards in each suit consisting of 1, 2, 3, 4, 5, 6, 7, 8, 9, J(Jack), Q(Queen), H(king) of that suit.\r\n",
        "\r\n",
        "\r\n",
        "> \r\n",
        "\r\n",
        "\r\n",
        "Three cards are picked at random\r\n",
        "\r\n",
        "\r\n",
        "\r\n",
        "> a. Suppose you know that the picked cards are Q of spades, K of hearts and Q of spades. Can you decide if the sampling was with or without replacement?\r\n",
        "\r\n",
        "\r\n",
        "\r\n",
        "> b. Suppose  you know that the picked cards are Q of spades, K of hearts and J of spades. Can you decide if the sampling was with or without replacement?\r\n"
      ]
    },
    {
      "cell_type": "code",
      "metadata": {
        "colab": {
          "base_uri": "https://localhost:8080/"
        },
        "id": "XDY5gKm0SEsT",
        "outputId": "55a0a26d-31e6-480c-9b5e-5bb09b40fd79"
      },
      "source": [
        "import random\r\n",
        "\r\n",
        "Cards = [\"1\", \"2\", \"3\", \"4\", \"5\", \"6\", \"7\", \"8\", \"9\", \"J\", \"Q\", \"K\"]\r\n",
        "TypeOfCards = [\"S\",\"C\",\"D\",\"H\"]\r\n",
        "\r\n",
        "S_Cards = []\r\n",
        "for i in TypeOfCards:\r\n",
        "  for j in Cards:\r\n",
        "    S_Cards.append(i+j)\r\n",
        "\r\n",
        "print(\"Universal Set for Cards: \",S_Cards)\r\n",
        "\r\n",
        "def Identify_Method(selectedCards):\r\n",
        "  print(\"RANDOMLY SLECTED CARDS: \", selectedCards)\r\n",
        "  if len(set(selectedCards)) != len(selectedCards):\r\n",
        "    return \"METHOD NAME: With Replacement\"\r\n",
        "  else:\r\n",
        "    return \"Can not decide if the sampling was with or without replacement\"\r\n",
        "\r\n",
        "#Case1:\r\n",
        "selectedCards = [\"SQ\",\"HK\",\"SQ\"]\r\n",
        "Result = Identify_Method(selectedCards)\r\n",
        "print(\"Result of CASE1: \",Result)\r\n",
        "\r\n",
        "#Case2:\r\n",
        "selectedCards = [\"SQ\",\"HK\",\"SJ\"]\r\n",
        "Result = Identify_Method(selectedCards)\r\n",
        "print(\"Result of CASE2: \",Result)\r\n",
        "\r\n",
        "#Case3: Dynamically select three Cards\r\n",
        "selectedCards = random.choices(S_Cards,k=3)\r\n",
        "Result = Identify_Method(selectedCards)\r\n",
        "print(\"Result of CASE3: \",Result)\r\n",
        "\r\n"
      ],
      "execution_count": 104,
      "outputs": [
        {
          "output_type": "stream",
          "text": [
            "Universal Set for Cards:  ['S1', 'S2', 'S3', 'S4', 'S5', 'S6', 'S7', 'S8', 'S9', 'SJ', 'SQ', 'SK', 'C1', 'C2', 'C3', 'C4', 'C5', 'C6', 'C7', 'C8', 'C9', 'CJ', 'CQ', 'CK', 'D1', 'D2', 'D3', 'D4', 'D5', 'D6', 'D7', 'D8', 'D9', 'DJ', 'DQ', 'DK', 'H1', 'H2', 'H3', 'H4', 'H5', 'H6', 'H7', 'H8', 'H9', 'HJ', 'HQ', 'HK']\n",
            "RANDOMLY SLECTED CARDS:  ['SQ', 'HK', 'SQ']\n",
            "Result of CASE1:  METHOD NAME: With Replacement\n",
            "RANDOMLY SLECTED CARDS:  ['SQ', 'HK', 'SJ']\n",
            "Result of CASE2:  Can not decide if the sampling was with or without replacement\n",
            "RANDOMLY SLECTED CARDS:  ['D6', 'S9', 'SJ']\n",
            "Result of CASE2:  Can not decide if the sampling was with or without replacement\n"
          ],
          "name": "stdout"
        }
      ]
    },
    {
      "cell_type": "markdown",
      "metadata": {
        "id": "D8C4iy35ZCLK"
      },
      "source": [
        "Q. 10. You have a fair, well-shuffled deck of 52 cards. It consists of four suits. The suits are clubs, diamonds, hearts and spaces. There are 13 cards in each suit consisting of 1, 2, 3, 4, 5, 6, 7, 8, 9, J(Jack), Q(Queen), H(king) of that suit. S=spades, H=Hearts, D=Diamonds, C=Clubs, suppose that you sample four cards without replacement. Which of the following outcomes are possible? \r\n",
        "Answer the following questions for sampling with replacement.\r\n",
        "\r\n",
        "\r\n",
        "> a. QS, 1D, 1C, QD\r\n",
        "\r\n",
        "\r\n",
        "> b. KH, 7D, 6D, KH\r\n",
        "\r\n",
        "\r\n",
        "\r\n",
        "> c. QS, 7D, 6D, KS\r\n"
      ]
    },
    {
      "cell_type": "code",
      "metadata": {
        "colab": {
          "base_uri": "https://localhost:8080/"
        },
        "id": "Ere9WUB3Zan8",
        "outputId": "6bc215a5-d29b-4eae-b445-f602a2520c07"
      },
      "source": [
        "import random\r\n",
        "\r\n",
        "Cards = [\"1\", \"2\", \"3\", \"4\", \"5\", \"6\", \"7\", \"8\", \"9\", \"J\", \"Q\", \"K\"]\r\n",
        "TypeOfCards = [\"S\",\"C\",\"D\",\"H\"]\r\n",
        "\r\n",
        "S_Cards = []\r\n",
        "for i in TypeOfCards:\r\n",
        "  for j in Cards:\r\n",
        "    S_Cards.append(i+j)\r\n",
        "\r\n",
        "print(\"Universal Set for Cards: \",S_Cards)\r\n",
        "\r\n",
        "def Identify_Method(selectedCards):\r\n",
        "  print(\"RANDOMLY SLECTED CARDS: \", selectedCards)\r\n",
        "  if len(set(selectedCards)) != len(selectedCards):\r\n",
        "    return \"With Replacement: Possible\\nWithout Replacement: Impossible\"\r\n",
        "  else:\r\n",
        "    return \"With Replacement: Possible\\nWithout Replacement: Possible\"\r\n",
        "\r\n",
        "#Case1:\r\n",
        "selectedCards = [\"SQ\", \"D1\", \"C1\", \"DQ\"]\r\n",
        "Result = Identify_Method(selectedCards)\r\n",
        "print(\"Result of CASE1:\\n\",Result)\r\n",
        "\r\n",
        "#Case2:\r\n",
        "selectedCards = [\"HK\", \"D7\", \"D6\", \"HK\"]\r\n",
        "Result = Identify_Method(selectedCards)\r\n",
        "print(\"Result of CASE2:\\n\",Result)\r\n",
        "\r\n",
        "#Case3:\r\n",
        "selectedCards = [\"SQ\", \"D7\", \"D6\", \"SK\"]\r\n",
        "Result = Identify_Method(selectedCards)\r\n",
        "print(\"Result of CASE3:\\n\",Result)\r\n",
        "\r\n",
        "#Case4: Dynamically select Four Cards\r\n",
        "selectedCards = random.choices(S_Cards,k=4)\r\n",
        "Result = Identify_Method(selectedCards)\r\n",
        "print(\"Result of CASE4:\\n\",Result)"
      ],
      "execution_count": 111,
      "outputs": [
        {
          "output_type": "stream",
          "text": [
            "Universal Set for Cards:  ['S1', 'S2', 'S3', 'S4', 'S5', 'S6', 'S7', 'S8', 'S9', 'SJ', 'SQ', 'SK', 'C1', 'C2', 'C3', 'C4', 'C5', 'C6', 'C7', 'C8', 'C9', 'CJ', 'CQ', 'CK', 'D1', 'D2', 'D3', 'D4', 'D5', 'D6', 'D7', 'D8', 'D9', 'DJ', 'DQ', 'DK', 'H1', 'H2', 'H3', 'H4', 'H5', 'H6', 'H7', 'H8', 'H9', 'HJ', 'HQ', 'HK']\n",
            "RANDOMLY SLECTED CARDS:  ['SQ', 'D1', 'C1', 'DQ']\n",
            "Result of CASE1:\n",
            " With Replacement: Possible\n",
            "Without Replacement: Possible\n",
            "RANDOMLY SLECTED CARDS:  ['HK', 'D7', 'D6', 'HK']\n",
            "Result of CASE2:\n",
            " With Replacement: Possible\n",
            "Without Replacement: Impossible\n",
            "RANDOMLY SLECTED CARDS:  ['SQ', 'D7', 'D6', 'SK']\n",
            "Result of CASE3:\n",
            " With Replacement: Possible\n",
            "Without Replacement: Possible\n",
            "RANDOMLY SLECTED CARDS:  ['D3', 'CQ', 'H3', 'HQ']\n",
            "Result of CASE4:\n",
            " With Replacement: Possible\n",
            "Without Replacement: Possible\n"
          ],
          "name": "stdout"
        }
      ]
    }
  ]
}